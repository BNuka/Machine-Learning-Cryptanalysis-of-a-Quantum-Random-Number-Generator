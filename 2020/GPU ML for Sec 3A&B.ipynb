{
 "cells": [
  {
   "cell_type": "code",
   "execution_count": 23,
   "metadata": {},
   "outputs": [],
   "source": [
    "import tensorflow as tf"
   ]
  },
  {
   "cell_type": "markdown",
   "metadata": {},
   "source": [
    "Step 1: Import Keras & packages"
   ]
  },
  {
   "cell_type": "code",
   "execution_count": 24,
   "metadata": {},
   "outputs": [],
   "source": [
    "from tensorflow.python.keras.layers import Input, Dense, Activation, Dropout, MaxPooling1D, Flatten, LSTM, Convolution1D\n",
    "from tensorflow.python.keras.models import Sequential\n",
    "from tensorflow.python.keras.optimizers import RMSprop\n",
    "from tensorflow.python.keras.callbacks import EarlyStopping, ModelCheckpoint\n",
    "from tensorflow.python.keras.utils.data_utils import get_file\n",
    "from timeit import default_timer as timer \n",
    "import numpy as np\n",
    "import matplotlib.mlab as mlab\n",
    "import matplotlib.pyplot as plt\n",
    "import scipy.stats as scs\n",
    "import random\n",
    "import sys\n",
    "import os\n",
    "import glob"
   ]
  },
  {
   "cell_type": "code",
   "execution_count": 25,
   "metadata": {},
   "outputs": [],
   "source": [
    "os.environ[\"CUDA_VISIBLE_DEVICES\"]=\"0\"#set the gpu to use, use nvidia-smi to check id"
   ]
  },
  {
   "cell_type": "markdown",
   "metadata": {},
   "source": [
    "Step 2: Import data, set input parameters and plot the distribution for visualisation"
   ]
  },
  {
   "cell_type": "code",
   "execution_count": 51,
   "metadata": {},
   "outputs": [],
   "source": [
    "alldata = []\n",
    "filenames = ['./Sec_III_B/LPF2.dat']#Please specify the filename to be trained and tested\n",
    "weightname ='IIIb_LPF2' #Specify the name to call this set of data\n",
    "\n",
    "# Length of input. Treating each input that consists of 100 \"words\" as a \"sentence\".\n",
    "maxlen = 100 #Default is 100\n",
    "# Distance between 2 consecutive \"sentences\"\n",
    "step = 15 #Default is 3, can be increased to speed up the training. The smaller the step, the higher the accurancy\n",
    "\n",
    "#Batch the data, default is len(test1_list)=100000. \n",
    "#Change this to smaller value if there is memory issue, or for validation. \n",
    "#Alternatively, the user can increase this (up to 1000000) if user's hardware permits. \n",
    "#If an error occurs due to memory, will need to re-run Step 2 due to clear memory steps in step 5\n",
    "new_size = 100000 \n"
   ]
  },
  {
   "cell_type": "code",
   "execution_count": 52,
   "metadata": {
    "scrolled": true
   },
   "outputs": [
    {
     "name": "stdout",
     "output_type": "stream",
     "text": [
      "Data:IIIb_LPF2\n",
      "Mean= -20.8908714\n",
      "Standard Deviation= 30.071270128623787\n",
      "Max-probability 0.0136928\n"
     ]
    },
    {
     "data": {
      "image/png": "[encoded data removed]",
      "text/plain": [
       "<Figure size 432x288 with 1 Axes>"
      ]
     },
     "metadata": {
      "needs_background": "light"
     },
     "output_type": "display_data"
    },
    {
     "name": "stdout",
     "output_type": "stream",
     "text": [
      "(10000000,)\n"
     ]
    }
   ],
   "source": [
    "print('Data:'+weightname)\n",
    "\n",
    "for filename in filenames:\n",
    "    data = np.fromfile(filename, dtype='>i2') #datatype is big-endian 2byte signed integer, as compared to '<u4'\n",
    "    data = data[2:]   # exclude first two header values \n",
    "    data = data >> 3  # shift right by 3 bits  \n",
    "    alldata.append(data)\n",
    "    \n",
    "data=data[:5000000]    \n",
    "mu, sigma = np.mean(data), np.std(data)\n",
    "#print('Mean='(mu),'Standard Deviation=' len(sigma))\n",
    "print('Mean=',mu)\n",
    "print('Standard Deviation=',sigma)\n",
    "\n",
    "# the histogram of the data\n",
    "n, bins, patches = plt.hist(data, list(range(np.min(data),np.max(data)+2)), density=1, facecolor='green', alpha=0.75)\n",
    "print('Max-probability',max(n))\n",
    "\n",
    "# add a 'best fit' line\n",
    "y = scs.norm.pdf( bins, mu, sigma)\n",
    "l = plt.plot(bins, y, 'r--', linewidth=1)\n",
    "\n",
    "plt.xlabel('Bins')\n",
    "plt.ylabel('Probability')\n",
    "plt.title(r'$\\mathrm{Histogram\\ of \\ data:}\\ \\mu=%.2f,\\ \\sigma=%.2f$' % (mu,sigma))\n",
    "plt.grid(True)\n",
    "\n",
    "plt.show()\n",
    "\n",
    "del data  #delete data\n",
    "\n",
    "alldata = np.concatenate(alldata)    \n",
    "print(alldata.shape)"
   ]
  },
  {
   "cell_type": "code",
   "execution_count": 53,
   "metadata": {},
   "outputs": [
    {
     "name": "stdout",
     "output_type": "stream",
     "text": [
      "5000000 1000000 1000000\n"
     ]
    }
   ],
   "source": [
    "text = alldata[:5000000]#Training set\n",
    "#Test sets\n",
    "test1 = alldata[5000000:6000000]\n",
    "test2 = alldata[6000000:7000000]\n",
    "test3 = alldata[7000000:8000000]\n",
    "test4 = alldata[8000000:9000000]\n",
    "test5 = alldata[9000000:]\n",
    "\n",
    "text = list(text)\n",
    "test1 = list(test1)\n",
    "test2 = list(test2)\n",
    "test3 = list(test3)\n",
    "test4 = list(test4)\n",
    "test5 = list(test5)\n",
    "text = map(str,text)\n",
    "test1 = map(str,test1)\n",
    "test2 = map(str,test2)\n",
    "test3 = map(str,test3)\n",
    "test4 = map(str,test4)\n",
    "test5 = map(str,test5)\n",
    "text_list = list(text)\n",
    "test1_list = list(test1)\n",
    "test2_list = list(test2)\n",
    "test3_list = list(test3)\n",
    "test4_list = list(test4)\n",
    "test5_list = list(test5)\n",
    "\n",
    "del text\n",
    "del test1\n",
    "del test2\n",
    "del test3\n",
    "del test4\n",
    "del test5\n",
    "\n",
    "print(len(text_list), len(test1_list), len(test5_list))"
   ]
  },
  {
   "cell_type": "markdown",
   "metadata": {},
   "source": [
    "Step 3: Preparing the data for ML"
   ]
  },
  {
   "cell_type": "code",
   "execution_count": 29,
   "metadata": {},
   "outputs": [
    {
     "name": "stdout",
     "output_type": "stream",
     "text": [
      "['-1', '-10', '-100', '-101', '-102', '-103', '-104', '-105', '-106', '-107', '-108', '-109', '-11', '-110', '-111', '-112', '-113', '-114', '-115', '-116', '-117', '-118', '-119', '-12', '-120', '-121', '-122', '-123', '-124', '-125', '-126', '-127', '-128', '-129', '-13', '-130', '-131', '-132', '-133', '-134', '-135', '-136', '-137', '-138', '-139', '-14', '-140', '-141', '-142', '-143', '-144', '-145', '-146', '-147', '-148', '-149', '-15', '-150', '-151', '-152', '-153', '-154', '-155', '-156', '-157', '-158', '-159', '-16', '-160', '-161', '-162', '-163', '-164', '-166', '-169', '-17', '-174', '-18', '-19', '-2', '-20', '-21', '-22', '-23', '-24', '-25', '-26', '-27', '-28', '-29', '-3', '-30', '-31', '-32', '-33', '-34', '-35', '-36', '-37', '-38', '-39', '-4', '-40', '-41', '-42', '-43', '-44', '-45', '-46', '-47', '-48', '-49', '-5', '-50', '-51', '-52', '-53', '-54', '-55', '-56', '-57', '-58', '-59', '-6', '-60', '-61', '-62', '-63', '-64', '-65', '-66', '-67', '-68', '-69', '-7', '-70', '-71', '-72', '-73', '-74', '-75', '-76', '-77', '-78', '-79', '-8', '-80', '-81', '-82', '-83', '-84', '-85', '-86', '-87', '-88', '-89', '-9', '-90', '-91', '-92', '-93', '-94', '-95', '-96', '-97', '-98', '-99', '0', '1', '10', '100', '101', '102', '103', '104', '105', '106', '107', '108', '109', '11', '110', '111', '112', '113', '114', '115', '116', '117', '118', '119', '12', '120', '121', '122', '124', '126', '127', '129', '13', '131', '134', '14', '15', '152', '16', '17', '18', '19', '2', '20', '21', '22', '23', '24', '25', '26', '27', '28', '29', '3', '30', '31', '32', '33', '34', '35', '36', '37', '38', '39', '4', '40', '41', '42', '43', '44', '45', '46', '47', '48', '49', '5', '50', '51', '52', '53', '54', '55', '56', '57', '58', '59', '6', '60', '61', '62', '63', '64', '65', '66', '67', '68', '69', '7', '70', '71', '72', '73', '74', '75', '76', '77', '78', '79', '8', '80', '81', '82', '83', '84', '85', '86', '87', '88', '89', '9', '90', '91', '92', '93', '94', '95', '96', '97', '98', '99']\n",
      "Total words: 297\n"
     ]
    }
   ],
   "source": [
    "# Treating each number as a \"word\". Creating a dictionary.\n",
    "alldata = alldata.astype(np.str)\n",
    "chars = sorted(list(set(alldata)))\n",
    "\n",
    "print(chars)\n",
    "del alldata\n",
    "print('Total words:', len(chars))\n",
    "\n",
    "char_indices = dict((c, i) for i, c in enumerate(chars))\n",
    "indices_char = dict((i, c) for i, c in enumerate(chars))"
   ]
  },
  {
   "cell_type": "code",
   "execution_count": 30,
   "metadata": {},
   "outputs": [
    {
     "name": "stdout",
     "output_type": "stream",
     "text": [
      "nb sequences: 99998\n",
      "Start vectorization...\n",
      "Done vectorization!\n"
     ]
    }
   ],
   "source": [
    "sentences = []\n",
    "next_chars = []\n",
    "for i in range(0, len(text_list) - maxlen, step):\n",
    "    sentences.append(text_list[i: (i + maxlen)])\n",
    "    next_chars.append(text_list[(i + maxlen)])\n",
    "print('nb sequences:', len(sentences))\n",
    "\n",
    "\n",
    "print('Start vectorization...')\n",
    "X = np.zeros((len(sentences), maxlen, len(chars)), dtype=np.bool)\n",
    "y = np.zeros((len(sentences), len(chars)), dtype=np.bool)\n",
    "for i, sentence in enumerate(sentences):\n",
    "    for t, char in enumerate(sentence):        \n",
    "        X[i, t, char_indices[char]] = 1\n",
    "    y[i, char_indices[next_chars[i]]] = 1\n",
    "print('Done vectorization!')"
   ]
  },
  {
   "cell_type": "markdown",
   "metadata": {},
   "source": [
    "Step 4: Build model and train the data"
   ]
  },
  {
   "cell_type": "code",
   "execution_count": 31,
   "metadata": {},
   "outputs": [
    {
     "name": "stdout",
     "output_type": "stream",
     "text": [
      "Build model...\n",
      "Model: \"sequential\"\n",
      "_________________________________________________________________\n",
      "Layer (type)                 Output Shape              Param #   \n",
      "=================================================================\n",
      "conv1d (Conv1D)              (None, 100, 64)           171136    \n",
      "_________________________________________________________________\n",
      "max_pooling1d (MaxPooling1D) (None, 50, 64)            0         \n",
      "_________________________________________________________________\n",
      "conv1d_1 (Conv1D)            (None, 50, 128)           24704     \n",
      "_________________________________________________________________\n",
      "max_pooling1d_1 (MaxPooling1 (None, 25, 128)           0         \n",
      "_________________________________________________________________\n",
      "lstm (LSTM)                  (None, 128)               131584    \n",
      "_________________________________________________________________\n",
      "dropout (Dropout)            (None, 128)               0         \n",
      "_________________________________________________________________\n",
      "dense (Dense)                (None, 297)               38313     \n",
      "_________________________________________________________________\n",
      "activation (Activation)      (None, 297)               0         \n",
      "=================================================================\n",
      "Total params: 365,737\n",
      "Trainable params: 365,737\n",
      "Non-trainable params: 0\n",
      "_________________________________________________________________\n",
      "None\n",
      "weights_IIIb_LPF2.hdf5\n"
     ]
    }
   ],
   "source": [
    "# build the RCNN model\n",
    "print('Build model...')\n",
    "model = Sequential()\n",
    "model.add(Convolution1D(filters=64, kernel_size=9, padding='same', activation='relu', input_shape=(maxlen, len(chars))))\n",
    "model.add(MaxPooling1D(pool_size=2))\n",
    "model.add(Convolution1D(filters=128, kernel_size=3, padding='same', activation='relu'))\n",
    "model.add(MaxPooling1D(pool_size=2))\n",
    "model.add(LSTM(128, return_sequences=False))\n",
    "model.add(Dropout(0.2))\n",
    "model.add(Dense(len(chars)))\n",
    "model.add(Activation('softmax'))\n",
    "\n",
    "model.compile(loss='categorical_crossentropy', optimizer=tf.keras.optimizers.RMSprop(lr=0.0005), metrics=['accuracy'])\n",
    "print(model.summary())\n",
    "early_stopping = EarlyStopping(monitor='val_loss', patience=4, verbose=1)\n",
    "weight ='weights_'+weightname+'.hdf5'\n",
    "print(weight)\n",
    "monitoring = ModelCheckpoint(weight, monitor='val_loss', verbose=1, save_best_only=True)"
   ]
  },
  {
   "cell_type": "code",
   "execution_count": 8,
   "metadata": {},
   "outputs": [
    {
     "name": "stdout",
     "output_type": "stream",
     "text": [
      "Train on 1333307 samples, validate on 333327 samples\n",
      "WARNING:tensorflow:From C:\\Users\\e0031292\\Anaconda3\\lib\\site-packages\\tensorflow\\python\\ops\\math_grad.py:1250: add_dispatch_support.<locals>.wrapper (from tensorflow.python.ops.array_ops) is deprecated and will be removed in a future version.\n",
      "Instructions for updating:\n",
      "Use tf.where in 2.0, which has the same broadcast rule as np.where\n",
      "Epoch 1/50\n",
      "1333248/1333307 [============================>.] - ETA: 0s - loss: 4.8300 - acc: 0.0134\n",
      "Epoch 00001: val_loss improved from inf to 4.82817, saving model to weights_Q3b_ch1_gpu.hdf5\n",
      "1333307/1333307 [==============================] - 3357s 3ms/sample - loss: 4.8300 - acc: 0.0134 - val_loss: 4.8282 - val_acc: 0.0137\n",
      "Epoch 2/50\n",
      "1333248/1333307 [============================>.] - ETA: 0s - loss: 4.8250 - acc: 0.0137\n",
      "Epoch 00002: val_loss did not improve from 4.82817\n",
      "1333307/1333307 [==============================] - 3297s 2ms/sample - loss: 4.8250 - acc: 0.0137 - val_loss: 4.8284 - val_acc: 0.0133\n",
      "Epoch 3/50\n",
      "1333248/1333307 [============================>.] - ETA: 0s - loss: 4.8239 - acc: 0.0138\n",
      "Epoch 00003: val_loss improved from 4.82817 to 4.82779, saving model to weights_Q3b_ch1_gpu.hdf5\n",
      "1333307/1333307 [==============================] - 3479s 3ms/sample - loss: 4.8239 - acc: 0.0138 - val_loss: 4.8278 - val_acc: 0.0133\n",
      "Epoch 4/50\n",
      "1333248/1333307 [============================>.] - ETA: 0s - loss: 4.8234 - acc: 0.0138\n",
      "Epoch 00004: val_loss did not improve from 4.82779\n",
      "1333307/1333307 [==============================] - 3475s 3ms/sample - loss: 4.8234 - acc: 0.0138 - val_loss: 4.8296 - val_acc: 0.0136\n",
      "Epoch 5/50\n",
      "1333248/1333307 [============================>.] - ETA: 0s - loss: 4.8268 - acc: 0.0138\n",
      "Epoch 00005: val_loss did not improve from 4.82779\n",
      "1333307/1333307 [==============================] - 3492s 3ms/sample - loss: 4.8268 - acc: 0.0138 - val_loss: 4.8351 - val_acc: 0.0131\n",
      "Epoch 6/50\n",
      "1333248/1333307 [============================>.] - ETA: 0s - loss: 4.8273 - acc: 0.0138\n",
      "Epoch 00006: val_loss did not improve from 4.82779\n",
      "1333307/1333307 [==============================] - 3474s 3ms/sample - loss: 4.8273 - acc: 0.0138 - val_loss: 4.8381 - val_acc: 0.0136\n",
      "Epoch 7/50\n",
      "1333248/1333307 [============================>.] - ETA: 0s - loss: 4.8314 - acc: 0.0138\n",
      "Epoch 00007: val_loss did not improve from 4.82779\n",
      "1333307/1333307 [==============================] - 3548s 3ms/sample - loss: 4.8314 - acc: 0.0138 - val_loss: 4.8508 - val_acc: 0.0136\n",
      "Epoch 00007: early stopping\n"
     ]
    }
   ],
   "source": [
    "#Epoch set to 50, can be changed to smaller value for code validation\n",
    "model.fit(X, y, epochs=50, batch_size=128, validation_split=0.2, verbose=1, callbacks=[early_stopping,monitoring])\n",
    "# Loads the weights\n",
    "model.load_weights(weight)"
   ]
  },
  {
   "cell_type": "markdown",
   "metadata": {},
   "source": [
    "Step 5: Perform the test for ML"
   ]
  },
  {
   "cell_type": "code",
   "execution_count": null,
   "metadata": {},
   "outputs": [],
   "source": [
    "#Perform the tests over 5 sets of data\n",
    "tests = [test1_list,test2_list,test3_list,test4_list,test5_list]\n",
    "\n",
    "#clear memory\n",
    "del test1_list\n",
    "del test2_list\n",
    "del test3_list\n",
    "del test4_list\n",
    "del test5_list\n",
    "\n",
    "#start the testing\n",
    "start = timer()\n",
    "average = 0\n",
    "for test in tests:\n",
    "    n_batch = int(len(test)/new_size)\n",
    "    for ib in range(n_batch):\n",
    "        test_ = test[ib*new_size:(ib+1)*new_size]\n",
    "    \n",
    "        maxlen = 100\n",
    "        step = 1\n",
    "        sentences = []\n",
    "        next_chars = []\n",
    "        for i in range(0, len(test_) - maxlen, step):\n",
    "            sentences.append(test_[i: (i + maxlen)])\n",
    "            next_chars.append(test_[(i + maxlen)])\n",
    "        print('nb sequences:', len(sentences))\n",
    "\n",
    "        print('Vectorization...')\n",
    "        Xt = np.zeros((len(sentences), maxlen, len(chars)), dtype=np.bool)\n",
    "        yt = np.zeros((len(sentences), len(chars)), dtype=np.bool)\n",
    "        for i, sentence in enumerate(sentences):\n",
    "\n",
    "            for t, char in enumerate(sentence):        \n",
    "                Xt[i, t, char_indices[char]] = 1       \n",
    "            yt[i, char_indices[next_chars[i]]] = 1\n",
    "        n_true = 0\n",
    "        diversity = 1\n",
    "        for i,x in enumerate(Xt):\n",
    "            if i % 100000 == 0:\n",
    "                print (\"Processed %d %d\" % (i,n_true))\n",
    "            x = x.reshape(1,maxlen,-1)\n",
    "            preds = model.predict(x, verbose=0)[0]\n",
    "            next_index = np.argmax(preds)      \n",
    "            next_char = indices_char[next_index]\n",
    "            if next_char == indices_char[np.argmax(yt[i])]:\n",
    "                n_true += 1\n",
    "        print (\"%d_%d_%.5f\" % (n_true,yt.shape[0],(float(n_true)/yt.shape[0])))\n",
    "        average = average + (float(n_true)/yt.shape[0])\n",
    "print(\"Time taken: %.5f hours, P_ML = %.5f\" % (float(timer()-start)/3600, average/(5*n_batch)))"
   ]
  }
 ],
 "metadata": {
  "kernelspec": {
   "display_name": "Python 3",
   "language": "python",
   "name": "python3"
  },
  "language_info": {
   "codemirror_mode": {
    "name": "ipython",
    "version": 3
   },
   "file_extension": ".py",
   "mimetype": "text/x-python",
   "name": "python",
   "nbconvert_exporter": "python",
   "pygments_lexer": "ipython3",
   "version": "3.7.6"
  }
 },
 "nbformat": 4,
 "nbformat_minor": 4
}
