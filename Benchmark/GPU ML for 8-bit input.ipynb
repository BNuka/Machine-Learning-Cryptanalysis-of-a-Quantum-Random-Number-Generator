{
 "cells": [
  {
   "cell_type": "code",
   "execution_count": 1,
   "metadata": {},
   "outputs": [],
   "source": [
    "import os\n",
    "os.environ[\"CUDA_VISIBLE_DEVICES\"]=\"0\""
   ]
  },
  {
   "cell_type": "code",
   "execution_count": 2,
   "metadata": {},
   "outputs": [],
   "source": [
    "import tensorflow as tf"
   ]
  },
  {
   "cell_type": "code",
   "execution_count": 3,
   "metadata": {},
   "outputs": [],
   "source": [
    "from tensorflow.python.keras.layers import Input, Dense, Activation, Dropout, MaxPooling1D, Flatten, LSTM, Convolution1D\n",
    "from tensorflow.python.keras.models import Sequential\n",
    "from tensorflow.python.keras.optimizers import RMSprop\n",
    "from tensorflow.python.keras.callbacks import EarlyStopping, ModelCheckpoint\n",
    "from tensorflow.python.keras.utils.data_utils import get_file\n",
    "from timeit import default_timer as timer \n",
    "import numpy as np\n",
    "import matplotlib.mlab as mlab\n",
    "import matplotlib.pyplot as plt\n",
    "import scipy.stats as scs\n",
    "import random\n",
    "import sys\n",
    "import os\n",
    "import glob"
   ]
  },
  {
   "cell_type": "code",
   "execution_count": 4,
   "metadata": {},
   "outputs": [],
   "source": [
    "#user-input variables\n",
    "\n",
    "alldata = []\n",
    "filenames = ['./matlab_rng']#Specify the directory + filename of the file to be trained and tested\n",
    "weightname ='matlab_rng' #Specify the name to call this set of data\n",
    "\n",
    "# Length of input. Treating each input that consists of 100 \"words\" as a \"sentence\".\n",
    "maxlen = 100 #Default is 100\n",
    "# Distance between 2 consecutive \"sentences\"\n",
    "step = 3 #Default is 3, can be increased to speed up the training. The smaller the step, the higher the accurancy\n",
    "\n",
    "#Batch the data to relief hardware requirements. \n",
    "#Change this to smaller value if there is memory issue, or for validation. \n",
    "#The user can increase this (up to 1000000) if user's hardware permits. \n",
    "#If an error occurs due to memory, will need to re-run Step 2 due to clear memory steps in step 5\n",
    "new_size = 500000"
   ]
  },
  {
   "cell_type": "code",
   "execution_count": 5,
   "metadata": {},
   "outputs": [
    {
     "name": "stdout",
     "output_type": "stream",
     "text": [
      "Data:matlab_rng\n",
      "Mean= 127.51636\n",
      "Standard Deviation= 73.91273257802337\n",
      "Max-probability 0.003982\n"
     ]
    },
    {
     "data": {
      "image/png": "[encoded data removed]",
      "text/plain": [
       "<Figure size 432x288 with 1 Axes>"
      ]
     },
     "metadata": {
      "needs_background": "light"
     },
     "output_type": "display_data"
    },
    {
     "name": "stdout",
     "output_type": "stream",
     "text": [
      "(10000000,)\n"
     ]
    }
   ],
   "source": [
    "print('Data:'+weightname)\n",
    "\n",
    "for filename in filenames:\n",
    "    data = np.fromfile(filename, dtype='<u1')  \n",
    "    alldata.append(data[:10000000])\n",
    "\n",
    "data=data[:5000000]    \n",
    "mu, sigma = np.mean(data), np.std(data)\n",
    "#print('Mean='(mu),'Standard Deviation=' len(sigma))\n",
    "print('Mean=',mu)\n",
    "print('Standard Deviation=',sigma)\n",
    "\n",
    "# the histogram of the data\n",
    "n, bins, patches = plt.hist(data, list(range(np.min(data),np.max(data)+2)), density=1, facecolor='green', alpha=0.75)\n",
    "print('Max-probability',max(n))\n",
    "\n",
    "plt.xlabel('Bins')\n",
    "plt.ylabel('Probability')\n",
    "plt.title(r'$\\mathrm{Histogram\\ of \\ data:}\\ \\mu=%.2f,\\ \\sigma=%.2f$' % (mu,sigma))\n",
    "plt.grid(True)\n",
    "\n",
    "plt.show()\n",
    "\n",
    "del data  #delete data\n",
    "\n",
    "alldata = np.concatenate(alldata)    \n",
    "print(alldata.shape)"
   ]
  },
  {
   "cell_type": "code",
   "execution_count": 6,
   "metadata": {},
   "outputs": [
    {
     "name": "stdout",
     "output_type": "stream",
     "text": [
      "5000000 1000000 1000000\n"
     ]
    }
   ],
   "source": [
    "text = alldata[:5000000]\n",
    "test1 = alldata[5000000:6000000]\n",
    "test2 = alldata[6000000:7000000]\n",
    "test3 = alldata[7000000:8000000]\n",
    "test4 = alldata[8000000:9000000]\n",
    "test5 = alldata[9000000:]\n",
    "text = list(text)\n",
    "test1 = list(test1)\n",
    "test2 = list(test2)\n",
    "test3 = list(test3)\n",
    "test4 = list(test4)\n",
    "test5 = list(test5)\n",
    "text = map(str,text)\n",
    "test1 = map(str,test1)\n",
    "test2 = map(str,test2)\n",
    "test3 = map(str,test3)\n",
    "test4 = map(str,test4)\n",
    "test5 = map(str,test5)\n",
    "text_list = list(text)\n",
    "test1_list = list(test1)\n",
    "test2_list = list(test2)\n",
    "test3_list = list(test3)\n",
    "test4_list = list(test4)\n",
    "test5_list = list(test5)\n",
    "\n",
    "del text\n",
    "del test1\n",
    "del test2\n",
    "del test3\n",
    "del test4\n",
    "del test5\n",
    "\n",
    "print(len(text_list), len(test1_list), len(test5_list))"
   ]
  },
  {
   "cell_type": "code",
   "execution_count": 7,
   "metadata": {},
   "outputs": [
    {
     "name": "stdout",
     "output_type": "stream",
     "text": [
      "['0', '1', '10', '100', '101', '102', '103', '104', '105', '106', '107', '108', '109', '11', '110', '111', '112', '113', '114', '115', '116', '117', '118', '119', '12', '120', '121', '122', '123', '124', '125', '126', '127', '128', '129', '13', '130', '131', '132', '133', '134', '135', '136', '137', '138', '139', '14', '140', '141', '142', '143', '144', '145', '146', '147', '148', '149', '15', '150', '151', '152', '153', '154', '155', '156', '157', '158', '159', '16', '160', '161', '162', '163', '164', '165', '166', '167', '168', '169', '17', '170', '171', '172', '173', '174', '175', '176', '177', '178', '179', '18', '180', '181', '182', '183', '184', '185', '186', '187', '188', '189', '19', '190', '191', '192', '193', '194', '195', '196', '197', '198', '199', '2', '20', '200', '201', '202', '203', '204', '205', '206', '207', '208', '209', '21', '210', '211', '212', '213', '214', '215', '216', '217', '218', '219', '22', '220', '221', '222', '223', '224', '225', '226', '227', '228', '229', '23', '230', '231', '232', '233', '234', '235', '236', '237', '238', '239', '24', '240', '241', '242', '243', '244', '245', '246', '247', '248', '249', '25', '250', '251', '252', '253', '254', '255', '26', '27', '28', '29', '3', '30', '31', '32', '33', '34', '35', '36', '37', '38', '39', '4', '40', '41', '42', '43', '44', '45', '46', '47', '48', '49', '5', '50', '51', '52', '53', '54', '55', '56', '57', '58', '59', '6', '60', '61', '62', '63', '64', '65', '66', '67', '68', '69', '7', '70', '71', '72', '73', '74', '75', '76', '77', '78', '79', '8', '80', '81', '82', '83', '84', '85', '86', '87', '88', '89', '9', '90', '91', '92', '93', '94', '95', '96', '97', '98', '99']\n",
      "Total words: 256\n"
     ]
    }
   ],
   "source": [
    "# Treating each number as a \"word\". Creating a dictionary.\n",
    "alldata = alldata.astype(np.str)\n",
    "chars = sorted(list(set(alldata)))\n",
    "\n",
    "print(chars)\n",
    "del alldata\n",
    "print('Total words:', len(chars))\n",
    "\n",
    "char_indices = dict((c, i) for i, c in enumerate(chars))\n",
    "indices_char = dict((i, c) for i, c in enumerate(chars))"
   ]
  },
  {
   "cell_type": "code",
   "execution_count": 8,
   "metadata": {},
   "outputs": [
    {
     "name": "stdout",
     "output_type": "stream",
     "text": [
      "nb sequences: 1666634\n",
      "Start vectorization...\n",
      "Done vectorization!\n"
     ]
    }
   ],
   "source": [
    "# Length of input. Treating each input that consists of 100 \"words\" as a \"sentence\".\n",
    "maxlen = 100\n",
    "# Distance between 2 consecutive \"sentences\"\n",
    "step = 3\n",
    "\n",
    "sentences = []\n",
    "next_chars = []\n",
    "for i in range(0, len(text_list) - maxlen, step):\n",
    "    sentences.append(text_list[i: (i + maxlen)])\n",
    "    next_chars.append(text_list[(i + maxlen)])\n",
    "print('nb sequences:', len(sentences))\n",
    "\n",
    "\n",
    "print('Start vectorization...')\n",
    "X = np.zeros((len(sentences), maxlen, len(chars)), dtype=np.bool)\n",
    "y = np.zeros((len(sentences), len(chars)), dtype=np.bool)\n",
    "for i, sentence in enumerate(sentences):\n",
    "    for t, char in enumerate(sentence):        \n",
    "        X[i, t, char_indices[char]] = 1\n",
    "    y[i, char_indices[next_chars[i]]] = 1\n",
    "print('Done vectorization!')"
   ]
  },
  {
   "cell_type": "code",
   "execution_count": 9,
   "metadata": {
    "scrolled": false
   },
   "outputs": [
    {
     "name": "stdout",
     "output_type": "stream",
     "text": [
      "Build model...\n",
      "WARNING:tensorflow:From C:\\Users\\e0031292\\Anaconda3\\lib\\site-packages\\tensorflow\\python\\ops\\init_ops.py:1251: calling VarianceScaling.__init__ (from tensorflow.python.ops.init_ops) with dtype is deprecated and will be removed in a future version.\n",
      "Instructions for updating:\n",
      "Call initializer instance with the dtype argument instead of passing it to the constructor\n",
      "Model: \"sequential\"\n",
      "_________________________________________________________________\n",
      "Layer (type)                 Output Shape              Param #   \n",
      "=================================================================\n",
      "conv1d (Conv1D)              (None, 100, 64)           147520    \n",
      "_________________________________________________________________\n",
      "max_pooling1d (MaxPooling1D) (None, 50, 64)            0         \n",
      "_________________________________________________________________\n",
      "conv1d_1 (Conv1D)            (None, 50, 128)           24704     \n",
      "_________________________________________________________________\n",
      "max_pooling1d_1 (MaxPooling1 (None, 25, 128)           0         \n",
      "_________________________________________________________________\n",
      "lstm (LSTM)                  (None, 128)               131584    \n",
      "_________________________________________________________________\n",
      "dropout (Dropout)            (None, 128)               0         \n",
      "_________________________________________________________________\n",
      "dense (Dense)                (None, 256)               33024     \n",
      "_________________________________________________________________\n",
      "activation (Activation)      (None, 256)               0         \n",
      "=================================================================\n",
      "Total params: 336,832\n",
      "Trainable params: 336,832\n",
      "Non-trainable params: 0\n",
      "_________________________________________________________________\n",
      "None\n",
      "weights_matlab_rng.hdf5\n"
     ]
    }
   ],
   "source": [
    "# build the RCNN model\n",
    "print('Build model...')\n",
    "model = Sequential()\n",
    "model.add(Convolution1D(filters=64, kernel_size=9, padding='same', activation='relu', input_shape=(maxlen, len(chars))))\n",
    "model.add(MaxPooling1D(pool_size=2))\n",
    "model.add(Convolution1D(filters=128, kernel_size=3, padding='same', activation='relu'))\n",
    "model.add(MaxPooling1D(pool_size=2))\n",
    "model.add(LSTM(128, return_sequences=False))\n",
    "model.add(Dropout(0.2))\n",
    "model.add(Dense(len(chars)))\n",
    "model.add(Activation('softmax'))\n",
    "\n",
    "model.compile(loss='categorical_crossentropy', optimizer=tf.keras.optimizers.RMSprop(lr=0.0005), metrics=['accuracy'])\n",
    "print(model.summary())\n",
    "early_stopping = EarlyStopping(monitor='val_loss', patience=4, verbose=1)\n",
    "weight ='weights_'+weightname+'.hdf5'\n",
    "print(weight)\n",
    "monitoring = ModelCheckpoint(weight, monitor='val_loss', verbose=1, save_best_only=True)"
   ]
  },
  {
   "cell_type": "code",
   "execution_count": 10,
   "metadata": {
    "scrolled": false
   },
   "outputs": [
    {
     "name": "stdout",
     "output_type": "stream",
     "text": [
      "Train on 1333307 samples, validate on 333327 samples\n",
      "WARNING:tensorflow:From C:\\Users\\e0031292\\Anaconda3\\lib\\site-packages\\tensorflow\\python\\ops\\math_grad.py:1250: add_dispatch_support.<locals>.wrapper (from tensorflow.python.ops.array_ops) is deprecated and will be removed in a future version.\n",
      "Instructions for updating:\n",
      "Use tf.where in 2.0, which has the same broadcast rule as np.where\n",
      "Epoch 1/50\n",
      "1333248/1333307 [============================>.] - ETA: 0s - loss: 5.5455 - acc: 0.0039\n",
      "Epoch 00001: val_loss improved from inf to 5.54551, saving model to weights_matlab_rng.hdf5\n",
      "1333307/1333307 [==============================] - 3013s 2ms/sample - loss: 5.5455 - acc: 0.0039 - val_loss: 5.5455 - val_acc: 0.0037\n",
      "Epoch 2/50\n",
      "1333248/1333307 [============================>.] - ETA: 0s - loss: 5.5453 - acc: 0.0041\n",
      "Epoch 00002: val_loss did not improve from 5.54551\n",
      "1333307/1333307 [==============================] - 3062s 2ms/sample - loss: 5.5453 - acc: 0.0041 - val_loss: 5.5456 - val_acc: 0.0039\n",
      "Epoch 3/50\n",
      "1333248/1333307 [============================>.] - ETA: 0s - loss: 5.5433 - acc: 0.0046\n",
      "Epoch 00003: val_loss did not improve from 5.54551\n",
      "1333307/1333307 [==============================] - 2963s 2ms/sample - loss: 5.5433 - acc: 0.0046 - val_loss: 5.5470 - val_acc: 0.0039\n",
      "Epoch 4/50\n",
      "1333248/1333307 [============================>.] - ETA: 0s - loss: 5.5363 - acc: 0.0055\n",
      "Epoch 00004: val_loss did not improve from 5.54551\n",
      "1333307/1333307 [==============================] - 3068s 2ms/sample - loss: 5.5363 - acc: 0.0055 - val_loss: 5.5520 - val_acc: 0.0040\n",
      "Epoch 5/50\n",
      "1333248/1333307 [============================>.] - ETA: 0s - loss: 5.5269 - acc: 0.0064\n",
      "Epoch 00005: val_loss did not improve from 5.54551\n",
      "1333307/1333307 [==============================] - 3060s 2ms/sample - loss: 5.5269 - acc: 0.0064 - val_loss: 5.5569 - val_acc: 0.0040\n",
      "Epoch 00005: early stopping\n"
     ]
    }
   ],
   "source": [
    "model.fit(X, y, epochs=50, batch_size=128, validation_split=0.2, verbose=1, callbacks=[early_stopping,monitoring])\n",
    "model.load_weights(weight)"
   ]
  },
  {
   "cell_type": "code",
   "execution_count": 11,
   "metadata": {},
   "outputs": [
    {
     "name": "stdout",
     "output_type": "stream",
     "text": [
      "nb sequences: 499900\n",
      "Vectorization...\n",
      "Processed 0 0\n",
      "Processed 100000 363\n",
      "Processed 200000 746\n",
      "Processed 300000 1115\n",
      "Processed 400000 1518\n",
      "1884_499900_0.00377\n",
      "nb sequences: 499900\n",
      "Vectorization...\n",
      "Processed 0 0\n",
      "Processed 100000 390\n",
      "Processed 200000 767\n",
      "Processed 300000 1176\n",
      "Processed 400000 1541\n",
      "1888_499900_0.00378\n",
      "nb sequences: 499900\n",
      "Vectorization...\n",
      "Processed 0 0\n",
      "Processed 100000 425\n",
      "Processed 200000 803\n",
      "Processed 300000 1189\n",
      "Processed 400000 1595\n",
      "1962_499900_0.00392\n",
      "nb sequences: 499900\n",
      "Vectorization...\n",
      "Processed 0 0\n",
      "Processed 100000 403\n",
      "Processed 200000 779\n",
      "Processed 300000 1173\n",
      "Processed 400000 1569\n",
      "1946_499900_0.00389\n",
      "nb sequences: 499900\n",
      "Vectorization...\n",
      "Processed 0 0\n",
      "Processed 100000 384\n",
      "Processed 200000 763\n",
      "Processed 300000 1177\n",
      "Processed 400000 1544\n",
      "1927_499900_0.00385\n",
      "nb sequences: 499900\n",
      "Vectorization...\n",
      "Processed 0 0\n",
      "Processed 100000 422\n",
      "Processed 200000 818\n",
      "Processed 300000 1223\n",
      "Processed 400000 1585\n",
      "1943_499900_0.00389\n",
      "nb sequences: 499900\n",
      "Vectorization...\n",
      "Processed 0 0\n",
      "Processed 100000 361\n",
      "Processed 200000 802\n",
      "Processed 300000 1205\n",
      "Processed 400000 1610\n",
      "2017_499900_0.00403\n",
      "nb sequences: 499900\n",
      "Vectorization...\n",
      "Processed 0 0\n",
      "Processed 100000 369\n",
      "Processed 200000 806\n",
      "Processed 300000 1201\n",
      "Processed 400000 1603\n",
      "1995_499900_0.00399\n",
      "nb sequences: 499900\n",
      "Vectorization...\n",
      "Processed 0 0\n",
      "Processed 100000 375\n",
      "Processed 200000 786\n",
      "Processed 300000 1201\n",
      "Processed 400000 1585\n",
      "1984_499900_0.00397\n",
      "nb sequences: 499900\n",
      "Vectorization...\n",
      "Processed 0 0\n",
      "Processed 100000 403\n",
      "Processed 200000 782\n",
      "Processed 300000 1172\n",
      "Processed 400000 1588\n",
      "1972_499900_0.00394\n",
      "Time taken: 7.60007 hours, P_ML = 0.00390\n"
     ]
    }
   ],
   "source": [
    "tests = [test1_list,test2_list,test3_list,test4_list,test5_list]\n",
    "del test1_list\n",
    "del test2_list\n",
    "del test3_list\n",
    "del test4_list\n",
    "del test5_list\n",
    "average = 0\n",
    "start = timer()\n",
    "for test in tests:\n",
    "    n_batch = int(len(test)/new_size)\n",
    "    for ib in range(n_batch):\n",
    "        test_ = test[ib*new_size:(ib+1)*new_size]\n",
    "    \n",
    "        maxlen = 100\n",
    "        step = 1\n",
    "        sentences = []\n",
    "        next_chars = []\n",
    "        for i in range(0, len(test_) - maxlen, step):\n",
    "            sentences.append(test_[i: (i + maxlen)])\n",
    "            next_chars.append(test_[(i + maxlen)])\n",
    "        print('nb sequences:', len(sentences))\n",
    "\n",
    "        print('Vectorization...')\n",
    "        Xt = np.zeros((len(sentences), maxlen, len(chars)), dtype=np.bool)\n",
    "        yt = np.zeros((len(sentences), len(chars)), dtype=np.bool)\n",
    "        for i, sentence in enumerate(sentences):\n",
    "\n",
    "            for t, char in enumerate(sentence):        \n",
    "                Xt[i, t, char_indices[char]] = 1       \n",
    "            yt[i, char_indices[next_chars[i]]] = 1\n",
    "        n_true = 0\n",
    "        diversity = 1\n",
    "        for i,x in enumerate(Xt):\n",
    "            if i % 100000 == 0:\n",
    "                print (\"Processed %d %d\" % (i,n_true))\n",
    "            x = x.reshape(1,maxlen,-1)\n",
    "            preds = model.predict(x, verbose=0)[0]\n",
    "            next_index = np.argmax(preds)      \n",
    "            next_char = indices_char[next_index]\n",
    "            if next_char == indices_char[np.argmax(yt[i])]:\n",
    "                n_true += 1\n",
    "        print (\"%d_%d_%.5f\" % (n_true,yt.shape[0],(float(n_true)/yt.shape[0])))\n",
    "        average = average + (float(n_true)/yt.shape[0])\n",
    "print(\"Time taken: %.5f hours, P_ML = %.5f\" % (float(timer()-start)/3600, average/(5*n_batch)))"
   ]
  },
  {
   "cell_type": "code",
   "execution_count": null,
   "metadata": {},
   "outputs": [],
   "source": []
  }
 ],
 "metadata": {
  "kernelspec": {
   "display_name": "Python 3",
   "language": "python",
   "name": "python3"
  },
  "language_info": {
   "codemirror_mode": {
    "name": "ipython",
    "version": 3
   },
   "file_extension": ".py",
   "mimetype": "text/x-python",
   "name": "python",
   "nbconvert_exporter": "python",
   "pygments_lexer": "ipython3",
   "version": "3.7.7"
  }
 },
 "nbformat": 4,
 "nbformat_minor": 4
}
